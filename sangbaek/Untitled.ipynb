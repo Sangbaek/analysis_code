{
 "cells": [
  {
   "cell_type": "code",
   "execution_count": 1,
   "metadata": {},
   "outputs": [
    {
     "name": "stdout",
     "output_type": "stream",
     "text": [
      "Welcome to JupyROOT 6.16/00\n"
     ]
    }
   ],
   "source": [
    "import ROOT\n",
    "from ROOT import TCanvas, TColor, TGaxis, TH1F,TH2F,TF2, TPad\n",
    "from ROOT import kBlack, kBlue, kRed\n"
   ]
  },
  {
   "cell_type": "code",
   "execution_count": 2,
   "metadata": {},
   "outputs": [],
   "source": [
    "def createH2():\n",
    "    h2 = TH2F(\"h2\", \"h2\", 100, -5, 5,100,-5,5)\n",
    "    xyg = TF2(\"xyg\",\"xygaus\",-5,5,-5,5)\n",
    "    xyg.SetParameters(1,0,2,0,2)\n",
    "    h2.FillRandom(\"xyg\")\n",
    "    h2.SetLineColor(kRed)\n",
    "    h2.SetLineWidth(2)\n",
    "    return h2\n"
   ]
  },
  {
   "cell_type": "code",
   "execution_count": 3,
   "metadata": {},
   "outputs": [],
   "source": [
    "def createCanvasPads():\n",
    "    c = TCanvas(\"c\", \"canvas\", 800, 800)\n",
    "    # Upper histogram plot is pad1\n",
    "    pad1 = TPad(\"pad1\", \"pad1\", 0, 0.3, 1, 1.0)\n",
    "    pad1.SetBottomMargin(0)  # joins upper and lower plot\n",
    "    pad1.SetGridx()\n",
    "    pad1.Draw()\n",
    "    # Lower ratio plot is pad2\n",
    "    c.cd()  # returns to main canvas before defining pad2\n",
    "    pad2 = TPad(\"pad2\", \"pad2\", 0, 0.05, 1, 0.3)\n",
    "    pad2.SetTopMargin(0)  # joins upper and lower plot\n",
    "    pad2.SetBottomMargin(0.2)\n",
    "    pad2.SetGridx()\n",
    "    pad2.Draw()\n",
    "    return c, pad1, pad2\n"
   ]
  },
  {
   "cell_type": "code",
   "execution_count": 4,
   "metadata": {},
   "outputs": [],
   "source": [
    "h2 = createH2()"
   ]
  },
  {
   "cell_type": "code",
   "execution_count": 5,
   "metadata": {},
   "outputs": [],
   "source": [
    "c, pad1, pad2 = createCanvasPads()"
   ]
  },
  {
   "cell_type": "code",
   "execution_count": 6,
   "metadata": {},
   "outputs": [
    {
     "data": {
      "text/plain": [
       "<ROOT.TPad object (\"pad1\") at 0x7fa6f7159e60>"
      ]
     },
     "execution_count": 6,
     "metadata": {},
     "output_type": "execute_result"
    }
   ],
   "source": [
    "pad1.cd()\n"
   ]
  },
  {
   "cell_type": "code",
   "execution_count": 7,
   "metadata": {},
   "outputs": [],
   "source": [
    "h2.ProjectionY(\"\",0,10,\"[-cutg]\").Draw()"
   ]
  },
  {
   "cell_type": "code",
   "execution_count": 8,
   "metadata": {},
   "outputs": [
    {
     "name": "stderr",
     "output_type": "stream",
     "text": [
      "Info in <TCanvas::Print>: ps file c.ps has been created\n"
     ]
    }
   ],
   "source": [
    "c.Print()"
   ]
  },
  {
   "cell_type": "code",
   "execution_count": null,
   "metadata": {},
   "outputs": [],
   "source": []
  }
 ],
 "metadata": {
  "kernelspec": {
   "display_name": "Python 2",
   "language": "python",
   "name": "python2"
  },
  "language_info": {
   "codemirror_mode": {
    "name": "ipython",
    "version": 2
   },
   "file_extension": ".py",
   "mimetype": "text/x-python",
   "name": "python",
   "nbconvert_exporter": "python",
   "pygments_lexer": "ipython2",
   "version": "2.7.16"
  }
 },
 "nbformat": 4,
 "nbformat_minor": 2
}
